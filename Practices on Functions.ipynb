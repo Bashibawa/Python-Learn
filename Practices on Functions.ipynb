{
 "cells": [
  {
   "cell_type": "code",
   "execution_count": 30,
   "id": "c0be419f",
   "metadata": {},
   "outputs": [],
   "source": [
    "def f(x, y, z):\n",
    "    return (x+y)/z\n",
    "a = 5\n",
    "b = 6\n",
    "c = 7.5"
   ]
  },
  {
   "cell_type": "code",
   "execution_count": 31,
   "id": "558dbe6d",
   "metadata": {},
   "outputs": [],
   "source": [
    "result = f(a, b, c)"
   ]
  },
  {
   "cell_type": "code",
   "execution_count": 32,
   "id": "c693338b",
   "metadata": {},
   "outputs": [
    {
     "name": "stdout",
     "output_type": "stream",
     "text": [
      "1.4666666666666666\n"
     ]
    }
   ],
   "source": [
    "print(result)"
   ]
  },
  {
   "cell_type": "code",
   "execution_count": 33,
   "id": "25d6c73c",
   "metadata": {},
   "outputs": [],
   "source": [
    "def add_numbers(a, b):\n",
    "    return a + b"
   ]
  },
  {
   "cell_type": "code",
   "execution_count": 34,
   "id": "d34e64d7",
   "metadata": {},
   "outputs": [
    {
     "data": {
      "text/plain": [
       "5"
      ]
     },
     "execution_count": 34,
     "metadata": {},
     "output_type": "execute_result"
    }
   ],
   "source": [
    "add_numbers(2, 3)"
   ]
  },
  {
   "cell_type": "code",
   "execution_count": 44,
   "id": "cb1c5524",
   "metadata": {},
   "outputs": [
    {
     "ename": "SyntaxError",
     "evalue": "invalid syntax (3198338881.py, line 3)",
     "output_type": "error",
     "traceback": [
      "\u001b[1;36m  Input \u001b[1;32mIn [44]\u001b[1;36m\u001b[0m\n\u001b[1;33m    print(\"It's nice meeting you.\")\u001b[0m\n\u001b[1;37m    ^\u001b[0m\n\u001b[1;31mSyntaxError\u001b[0m\u001b[1;31m:\u001b[0m invalid syntax\n"
     ]
    }
   ],
   "source": [
    "def my_details(name, age, degree, institution):\n",
    "    print(\"My Name is {}, I'm {} years old and a graduate in {}, from the {}.\".format(name, str(age, degree, institution))\n",
    "    print(\"It's nice meeting you.\")"
   ]
  },
  {
   "cell_type": "code",
   "execution_count": 45,
   "id": "6c909509",
   "metadata": {},
   "outputs": [
    {
     "name": "stdout",
     "output_type": "stream",
     "text": [
      "My Name is Bashidoshi, I'm 25 years old and a graduate in Genetics and Biotechnology, from the University of Calabar.\n",
      "It's nice meeting you.\n",
      "None\n"
     ]
    }
   ],
   "source": [
    "me = my_details(\"Bashidoshi\", 25, \"Genetics and Biotechnology\", \"University of Calabar\"  )\n",
    "print(me)"
   ]
  },
  {
   "cell_type": "code",
   "execution_count": 46,
   "id": "28fceb7e",
   "metadata": {},
   "outputs": [],
   "source": [
    "def my_biodata(name, dob, place_of_birth):\n",
    "    print(\"My Name is {}, I was born in {} at {}, so I'm {} years old.\".format(name, str(dob), place_of_birth, 2022-dob))\n",
    "    print(\"Its nice meeting you.\")\n",
    "    return 2022-dob"
   ]
  },
  {
   "cell_type": "code",
   "execution_count": 47,
   "id": "a84ac20c",
   "metadata": {},
   "outputs": [
    {
     "name": "stdout",
     "output_type": "stream",
     "text": [
      "My Name is Bashidoshi, I was born in 1997 at Kano, so I'm 25 years old.\n",
      "Its nice meeting you.\n"
     ]
    },
    {
     "data": {
      "text/plain": [
       "25"
      ]
     },
     "execution_count": 47,
     "metadata": {},
     "output_type": "execute_result"
    }
   ],
   "source": [
    "my_biodata('Bashidoshi', 1997, 'Kano')"
   ]
  },
  {
   "cell_type": "code",
   "execution_count": 48,
   "id": "5684986b",
   "metadata": {},
   "outputs": [
    {
     "name": "stdout",
     "output_type": "stream",
     "text": [
      "My Name is Bashidoshi, I was born in 1997 at Kano, so I'm 25 years old.\n",
      "Its nice meeting you.\n"
     ]
    }
   ],
   "source": [
    "mySelf = my_biodata('Bashidoshi', 1997, 'Kano')"
   ]
  },
  {
   "cell_type": "code",
   "execution_count": 49,
   "id": "978a773f",
   "metadata": {},
   "outputs": [],
   "source": [
    "import numpy as np"
   ]
  },
  {
   "cell_type": "code",
   "execution_count": 50,
   "id": "5104a031",
   "metadata": {},
   "outputs": [],
   "source": [
    "a = np.random.randn(100, 100)"
   ]
  },
  {
   "cell_type": "code",
   "execution_count": 51,
   "id": "e2ee7247",
   "metadata": {},
   "outputs": [
    {
     "name": "stdout",
     "output_type": "stream",
     "text": [
      "190 µs ± 6.01 µs per loop (mean ± std. dev. of 7 runs, 10,000 loops each)\n"
     ]
    }
   ],
   "source": [
    "%timeit np.dot(a, a)"
   ]
  },
  {
   "cell_type": "code",
   "execution_count": 61,
   "id": "cfe53be0",
   "metadata": {},
   "outputs": [],
   "source": [
    "def product_numbers(x, y):\n",
    "    return x*y"
   ]
  },
  {
   "cell_type": "code",
   "execution_count": 62,
   "id": "a89d476f",
   "metadata": {},
   "outputs": [
    {
     "data": {
      "text/plain": [
       "6"
      ]
     },
     "execution_count": 62,
     "metadata": {},
     "output_type": "execute_result"
    }
   ],
   "source": [
    "product_numbers(2, 3)"
   ]
  },
  {
   "cell_type": "code",
   "execution_count": 54,
   "id": "404d6c04",
   "metadata": {},
   "outputs": [],
   "source": [
    "def quotient_numbers(m, n):\n",
    "    if n==0:\n",
    "        print(\"Cannot divide\")\n",
    "    else:\n",
    "        return m/n"
   ]
  },
  {
   "cell_type": "code",
   "execution_count": 55,
   "id": "4a19fb95",
   "metadata": {},
   "outputs": [
    {
     "name": "stdout",
     "output_type": "stream",
     "text": [
      "Cannot divide\n"
     ]
    }
   ],
   "source": [
    "quotient_numbers(7, 0)"
   ]
  },
  {
   "cell_type": "code",
   "execution_count": 56,
   "id": "1cd0b141",
   "metadata": {},
   "outputs": [
    {
     "data": {
      "text/plain": [
       "4.0"
      ]
     },
     "execution_count": 56,
     "metadata": {},
     "output_type": "execute_result"
    }
   ],
   "source": [
    "quotient_numbers(8, 2)"
   ]
  },
  {
   "cell_type": "code",
   "execution_count": 57,
   "id": "f0f46194",
   "metadata": {},
   "outputs": [],
   "source": [
    "def difference_numbers(a, b):\n",
    "    return a-b"
   ]
  },
  {
   "cell_type": "code",
   "execution_count": 58,
   "id": "95cfff88",
   "metadata": {},
   "outputs": [
    {
     "data": {
      "text/plain": [
       "2"
      ]
     },
     "execution_count": 58,
     "metadata": {},
     "output_type": "execute_result"
    }
   ],
   "source": [
    "difference_numbers(7, 5)"
   ]
  },
  {
   "cell_type": "code",
   "execution_count": 70,
   "id": "0023ef1d",
   "metadata": {},
   "outputs": [],
   "source": [
    "def main():\n",
    "    add_numbers(a, b)\n",
    "    product_numbers(x, y)\n",
    "    quotient_numbers(m, n)\n",
    "    difference_numbers(a, b) "
   ]
  },
  {
   "cell_type": "code",
   "execution_count": 71,
   "id": "eb5ae0fd",
   "metadata": {},
   "outputs": [],
   "source": [
    "x=2\n",
    "y=3\n",
    "def sum(x, y):\n",
    "    return x+y"
   ]
  },
  {
   "cell_type": "code",
   "execution_count": 72,
   "id": "e07ff9d2",
   "metadata": {},
   "outputs": [
    {
     "data": {
      "text/plain": [
       "5"
      ]
     },
     "execution_count": 72,
     "metadata": {},
     "output_type": "execute_result"
    }
   ],
   "source": [
    "sum(x, y)"
   ]
  },
  {
   "cell_type": "code",
   "execution_count": 79,
   "id": "eed4fb78",
   "metadata": {},
   "outputs": [
    {
     "name": "stdout",
     "output_type": "stream",
     "text": [
      "The number of TASU students is 20000\n",
      "The number of FU Wukari students is 3000\n"
     ]
    }
   ],
   "source": [
    "def tasu():\n",
    "    num =20000\n",
    "    print('The number of TASU students is', num)\n",
    "def fu_wukari():\n",
    "    num =3000\n",
    "    print('The number of FU Wukari students is', num)\n",
    "\n",
    "def main():\n",
    "    tasu()\n",
    "    fu_wukari()\n",
    "main()"
   ]
  },
  {
   "cell_type": "code",
   "execution_count": 83,
   "id": "cbf2f03a",
   "metadata": {},
   "outputs": [
    {
     "name": "stdout",
     "output_type": "stream",
     "text": [
      "The state in which my university is located \t Taraba\n"
     ]
    }
   ],
   "source": [
    "state =input('The state in which my university is located \\t ')"
   ]
  },
  {
   "cell_type": "code",
   "execution_count": 84,
   "id": "8f710c86",
   "metadata": {},
   "outputs": [
    {
     "name": "stdout",
     "output_type": "stream",
     "text": [
      "Your school is located in Taraba State\n",
      "Their school is located in Taraba State\n"
     ]
    }
   ],
   "source": [
    "def your_school():\n",
    "    print(\"Your school is located in\", state, \"State\")\n",
    "def their_school():\n",
    "    print(\"Their school is located in\", state, \"State\")\n",
    "    \n",
    "def main():\n",
    "    your_school()\n",
    "    their_school()\n",
    "main()"
   ]
  },
  {
   "cell_type": "code",
   "execution_count": 102,
   "id": "79be9017",
   "metadata": {},
   "outputs": [
    {
     "name": "stdout",
     "output_type": "stream",
     "text": [
      "Enter number of cups2\n"
     ]
    }
   ],
   "source": [
    "def intro():\n",
    "    print(\"Convert cup to fluid\")\n",
    "    print(\"1 cup is equilavent to 8 ounces\")\n",
    "def convert_to_ounce(cups):\n",
    "    ouc=8*cups\n",
    "    print(\"{} cup(s) is equivalent to {} ounces\".format(cups, ouc))\n",
    "    return ouc\n",
    "cups= int(input(\"Enter number of cups\"))\n",
    "\n",
    "def main():\n",
    "        intro()\n",
    "        convert_to_ounce(cups)\n",
    "    "
   ]
  },
  {
   "cell_type": "code",
   "execution_count": 103,
   "id": "52edb30f",
   "metadata": {},
   "outputs": [
    {
     "name": "stdout",
     "output_type": "stream",
     "text": [
      "Convert cup to fluid\n",
      "1 cup is equilavent to 8 ounces\n",
      "2 cup(s) is equivalent to 16 ounces\n"
     ]
    }
   ],
   "source": [
    "main()"
   ]
  },
  {
   "cell_type": "code",
   "execution_count": 1,
   "id": "13703589",
   "metadata": {},
   "outputs": [
    {
     "name": "stdout",
     "output_type": "stream",
     "text": [
      "Enter your first name:Bashidoshi\n",
      "Enter your last name:Musa\n"
     ]
    }
   ],
   "source": [
    "def full_name(first, last):\n",
    "    print(\"My full name is {} {}.\".format(first, last))\n",
    "def reverse_name(last, first):\n",
    "    print(\"My reversed name is {} {}.\".format(last, first))\n",
    "    \n",
    "first = input(\"Enter your first name:\")\n",
    "last = input(\"Enter your last name:\")"
   ]
  },
  {
   "cell_type": "code",
   "execution_count": 3,
   "id": "8732b0ee",
   "metadata": {},
   "outputs": [
    {
     "name": "stdout",
     "output_type": "stream",
     "text": [
      "My full name is Bashidoshi Musa.\n",
      "My reversed name is Musa Bashidoshi.\n"
     ]
    }
   ],
   "source": [
    "def main():\n",
    "    full_name(first, last)\n",
    "    reverse_name(last, first)\n",
    "main()"
   ]
  },
  {
   "cell_type": "code",
   "execution_count": null,
   "id": "bbefbb21",
   "metadata": {},
   "outputs": [],
   "source": [
    "def simple_intrest(P, r, t):\n",
    "    I= (P*r*t)/100\n",
    "    print(\"The simple interest is: {}\".format(I))\n",
    "    return I\n",
    "def total_amount(P, I):\n",
    "    A= P+I\n",
    "    print(\"The calculated amount would be: {}\".format(A))\n",
    "    return A\n",
    "P= int(input(\"Enter the principal amount:\"))\n",
    "r= int(input(\"Enter the rate:\"))\n",
    "t= int(input(\"Enter the time:\"))\n",
    "\n",
    "def main():\n",
    "    simple_intrest(P, r, t)\n",
    "    total_amount(P, I)"
   ]
  },
  {
   "cell_type": "code",
   "execution_count": null,
   "id": "01c1f57e",
   "metadata": {},
   "outputs": [],
   "source": [
    "main()"
   ]
  },
  {
   "cell_type": "code",
   "execution_count": null,
   "id": "fafb5904",
   "metadata": {},
   "outputs": [],
   "source": [
    "import math as mth\n",
    "import"
   ]
  }
 ],
 "metadata": {
  "kernelspec": {
   "display_name": "Python 3 (ipykernel)",
   "language": "python",
   "name": "python3"
  },
  "language_info": {
   "codemirror_mode": {
    "name": "ipython",
    "version": 3
   },
   "file_extension": ".py",
   "mimetype": "text/x-python",
   "name": "python",
   "nbconvert_exporter": "python",
   "pygments_lexer": "ipython3",
   "version": "3.9.12"
  }
 },
 "nbformat": 4,
 "nbformat_minor": 5
}
